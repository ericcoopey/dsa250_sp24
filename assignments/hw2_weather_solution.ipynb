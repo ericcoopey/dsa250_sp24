{
 "cells": [
  {
   "cell_type": "markdown",
   "metadata": {},
   "source": [
    "**Homework 2**\n",
    "\n",
    "In this exercise we will retrieve some data from the NOAA webservice and do some data processing on it.\n",
    "\n",
    "I have included the helper function from the book Notebooks, Chapter 3, 2 - using the weather api\n",
    "\n",
    "***If you have serious trouble using/acccessing the API do not spend hours figuring it out let me know and worst case I can get you a csv file**"
   ]
  },
  {
   "cell_type": "code",
   "execution_count": 4,
   "metadata": {},
   "outputs": [],
   "source": [
    "\n",
    "import requests\n",
    "import pandas as pd\n",
    "\n",
    "def make_request(endpoint, payload=None):\n",
    "    \"\"\"\n",
    "    Make a request to a specific endpoint on the weather API\n",
    "    passing headers and optional payload.\n",
    "    \n",
    "    Parameters:\n",
    "        - endpoint: The endpoint of the API you want to \n",
    "                    make a GET request to.\n",
    "        - payload: A dictionary of data to pass along \n",
    "                   with the request.\n",
    "    \n",
    "    Returns:\n",
    "        A response object.\n",
    "    \"\"\"\n",
    "    return requests.get(\n",
    "        f'https://www.ncdc.noaa.gov/cdo-web/api/v2/{endpoint}',\n",
    "        headers={\n",
    "            'token': 'RDBwieNtlQtPFszhHSvIukqJnIJVldda'\n",
    "        },\n",
    "        params=payload\n",
    "    )\n",
    "\n",
    "\n",
    "def get_item(name, what, endpoint, start=1, end=None):\n",
    "    \"\"\"\n",
    "    Grab the JSON payload for a given field by name using binary search.\n",
    "\n",
    "    Parameters:\n",
    "        - name: The item to look for.\n",
    "        - what: Dictionary specifying what the item in `name` is.\n",
    "        - endpoint: Where to look for the item.\n",
    "        - start: The position to start at. We don't need to touch this, but the\n",
    "                 function will manipulate this with recursion.\n",
    "        - end: The last position of the items. Used to find the midpoint, but\n",
    "               like `start` this is not something we need to worry about.\n",
    "\n",
    "    Returns:\n",
    "        Dictionary of the information for the item if found otherwise \n",
    "        an empty dictionary.\n",
    "    \"\"\"\n",
    "    # find the midpoint which we use to cut the data in half each time\n",
    "    mid = (start + (end or 1)) // 2\n",
    "    \n",
    "    # lowercase the name so this is not case-sensitive\n",
    "    name = name.lower()\n",
    "    \n",
    "    # define the payload we will send with each request\n",
    "    payload = {\n",
    "        'datasetid': 'GHCND',\n",
    "        'sortfield': 'name',\n",
    "        'offset': mid, # we will change the offset each time\n",
    "        'limit': 1 # we only want one value back\n",
    "    }\n",
    "    \n",
    "    # make our request adding any additional filter parameters from `what`\n",
    "    response = make_request(endpoint, {**payload, **what})\n",
    "    \n",
    "    if response.ok:\n",
    "        payload = response.json()\n",
    "\n",
    "        # if response is ok, grab the end index from the response metadata the first time through\n",
    "        end = end or payload['metadata']['resultset']['count']\n",
    "        \n",
    "        # grab the lowercase version of the current name\n",
    "        current_name = payload['results'][0]['name'].lower()\n",
    "        \n",
    "        # if what we are searching for is in the current name, we have found our item\n",
    "        if name in current_name:\n",
    "            return payload['results'][0] # return the found item\n",
    "        else:\n",
    "            if start >= end: \n",
    "                # if our start index is greater than or equal to our end, we couldn't find it\n",
    "                return {}\n",
    "            elif name < current_name:\n",
    "                # our name comes before the current name in the alphabet, so we search further to the left\n",
    "                return get_item(name, what, endpoint, start, mid - 1)\n",
    "            elif name > current_name:\n",
    "                # our name comes after the current name in the alphabet, so we search further to the right\n",
    "                return get_item(name, what, endpoint, mid + 1, end)    \n",
    "    else:\n",
    "        # response wasn't ok, use code to determine why\n",
    "        print(f'Response not OK, status: {response.status_code}')"
   ]
  },
  {
   "cell_type": "markdown",
   "metadata": {},
   "source": [
    "**CODE**\n",
    "Here is the function from the book to retrieve data. Modify to retrieve the dataset for the two locations in the UAE:\n",
    "\n",
    "* datasetid - GHCND\n",
    "* stationid - GHCND:AEM00041194 & GHCND:AE000041196  (look at the datatypeid field for how to include multiple)\n",
    "* locationid - CITY:AE000003\n",
    "* For January of 2023"
   ]
  },
  {
   "cell_type": "code",
   "execution_count": 5,
   "metadata": {},
   "outputs": [
    {
     "data": {
      "text/plain": [
       "200"
      ]
     },
     "execution_count": 5,
     "metadata": {},
     "output_type": "execute_result"
    }
   ],
   "source": [
    "response = make_request(\n",
    "    'data', \n",
    "    {\n",
    "        'datasetid': 'GHCND',\n",
    "        'stationid': ['GHCND:AEM00041194','GHCND:AE000041196'],\n",
    "        'locationid': 'CITY:AE000003',\n",
    "        'startdate': '2023-01-01',\n",
    "        'enddate': '2023-01-31',\n",
    "        'datatypeid': ['TAVG', 'TMAX', 'TMIN'], # average, max, and min temperature\n",
    "        'units': 'metric',\n",
    "        'limit': 1000\n",
    "    }\n",
    ")\n",
    "response.status_code"
   ]
  },
  {
   "cell_type": "code",
   "execution_count": 6,
   "metadata": {},
   "outputs": [
    {
     "ename": "AttributeError",
     "evalue": "module 'pandas' has no attribute 'writecsv'",
     "output_type": "error",
     "traceback": [
      "\u001b[0;31m---------------------------------------------------------------------------\u001b[0m",
      "\u001b[0;31mAttributeError\u001b[0m                            Traceback (most recent call last)",
      "Cell \u001b[0;32mIn[6], line 1\u001b[0m\n\u001b[0;32m----> 1\u001b[0m \u001b[43mpd\u001b[49m\u001b[38;5;241;43m.\u001b[39;49m\u001b[43mwritecsv\u001b[49m(\u001b[38;5;124m'\u001b[39m\u001b[38;5;124mweather.csv\u001b[39m\u001b[38;5;124m'\u001b[39m, response\u001b[38;5;241m.\u001b[39mjson())\n",
      "\u001b[0;31mAttributeError\u001b[0m: module 'pandas' has no attribute 'writecsv'"
     ]
    }
   ],
   "source": [
    "#writing the response to a file\n",
    "with open('weather.json', 'w') as f:\n",
    "    f.write(response.text)\n",
    "\n"
   ]
  },
  {
   "cell_type": "markdown",
   "metadata": {},
   "source": [
    "**CODE**\n",
    "Read the 'results' of the web service call into a Pandas dataframe."
   ]
  },
  {
   "cell_type": "code",
   "execution_count": 7,
   "metadata": {},
   "outputs": [
    {
     "data": {
      "text/html": [
       "<div>\n",
       "<style scoped>\n",
       "    .dataframe tbody tr th:only-of-type {\n",
       "        vertical-align: middle;\n",
       "    }\n",
       "\n",
       "    .dataframe tbody tr th {\n",
       "        vertical-align: top;\n",
       "    }\n",
       "\n",
       "    .dataframe thead th {\n",
       "        text-align: right;\n",
       "    }\n",
       "</style>\n",
       "<table border=\"1\" class=\"dataframe\">\n",
       "  <thead>\n",
       "    <tr style=\"text-align: right;\">\n",
       "      <th></th>\n",
       "      <th>date</th>\n",
       "      <th>datatype</th>\n",
       "      <th>station</th>\n",
       "      <th>attributes</th>\n",
       "      <th>value</th>\n",
       "    </tr>\n",
       "  </thead>\n",
       "  <tbody>\n",
       "    <tr>\n",
       "      <th>0</th>\n",
       "      <td>2023-01-01T00:00:00</td>\n",
       "      <td>TAVG</td>\n",
       "      <td>GHCND:AE000041196</td>\n",
       "      <td>H,,S,</td>\n",
       "      <td>20.7</td>\n",
       "    </tr>\n",
       "    <tr>\n",
       "      <th>1</th>\n",
       "      <td>2023-01-01T00:00:00</td>\n",
       "      <td>TMAX</td>\n",
       "      <td>GHCND:AE000041196</td>\n",
       "      <td>,,S,</td>\n",
       "      <td>25.2</td>\n",
       "    </tr>\n",
       "    <tr>\n",
       "      <th>2</th>\n",
       "      <td>2023-01-01T00:00:00</td>\n",
       "      <td>TMIN</td>\n",
       "      <td>GHCND:AE000041196</td>\n",
       "      <td>,,S,</td>\n",
       "      <td>14.9</td>\n",
       "    </tr>\n",
       "    <tr>\n",
       "      <th>3</th>\n",
       "      <td>2023-01-01T00:00:00</td>\n",
       "      <td>TAVG</td>\n",
       "      <td>GHCND:AEM00041194</td>\n",
       "      <td>H,,S,</td>\n",
       "      <td>22.3</td>\n",
       "    </tr>\n",
       "    <tr>\n",
       "      <th>4</th>\n",
       "      <td>2023-01-01T00:00:00</td>\n",
       "      <td>TMAX</td>\n",
       "      <td>GHCND:AEM00041194</td>\n",
       "      <td>,,S,</td>\n",
       "      <td>25.5</td>\n",
       "    </tr>\n",
       "  </tbody>\n",
       "</table>\n",
       "</div>"
      ],
      "text/plain": [
       "                  date datatype            station attributes  value\n",
       "0  2023-01-01T00:00:00     TAVG  GHCND:AE000041196      H,,S,   20.7\n",
       "1  2023-01-01T00:00:00     TMAX  GHCND:AE000041196       ,,S,   25.2\n",
       "2  2023-01-01T00:00:00     TMIN  GHCND:AE000041196       ,,S,   14.9\n",
       "3  2023-01-01T00:00:00     TAVG  GHCND:AEM00041194      H,,S,   22.3\n",
       "4  2023-01-01T00:00:00     TMAX  GHCND:AEM00041194       ,,S,   25.5"
      ]
     },
     "execution_count": 7,
     "metadata": {},
     "output_type": "execute_result"
    }
   ],
   "source": [
    "df = pd.DataFrame(response.json()['results'])\n",
    "df.head()"
   ]
  },
  {
   "cell_type": "code",
   "execution_count": 8,
   "metadata": {},
   "outputs": [],
   "source": [
    "#write the df to a csv file\n",
    "df.to_csv('weather.csv', index=False)"
   ]
  },
  {
   "cell_type": "markdown",
   "metadata": {},
   "source": [
    "**CODE**\n",
    "\n",
    "Use the \"info\" dataframe function to check the type of the columns"
   ]
  },
  {
   "cell_type": "code",
   "execution_count": 17,
   "metadata": {},
   "outputs": [
    {
     "name": "stdout",
     "output_type": "stream",
     "text": [
      "<class 'pandas.core.frame.DataFrame'>\n",
      "RangeIndex: 154 entries, 0 to 153\n",
      "Data columns (total 5 columns):\n",
      " #   Column      Non-Null Count  Dtype  \n",
      "---  ------      --------------  -----  \n",
      " 0   date        154 non-null    object \n",
      " 1   datatype    154 non-null    object \n",
      " 2   station     154 non-null    object \n",
      " 3   attributes  154 non-null    object \n",
      " 4   value       154 non-null    float64\n",
      "dtypes: float64(1), object(4)\n",
      "memory usage: 6.1+ KB\n"
     ]
    }
   ],
   "source": [
    "df.info()"
   ]
  },
  {
   "cell_type": "markdown",
   "metadata": {},
   "source": [
    "**CODE**\n",
    "\n",
    "Data Type Conversion - change the column data types for:\n",
    "\n",
    "* date - datetime\n",
    "* datatype - categorical\n",
    "* station - categorical"
   ]
  },
  {
   "cell_type": "code",
   "execution_count": 18,
   "metadata": {},
   "outputs": [
    {
     "name": "stdout",
     "output_type": "stream",
     "text": [
      "<class 'pandas.core.frame.DataFrame'>\n",
      "RangeIndex: 154 entries, 0 to 153\n",
      "Data columns (total 5 columns):\n",
      " #   Column      Non-Null Count  Dtype         \n",
      "---  ------      --------------  -----         \n",
      " 0   date        154 non-null    datetime64[ns]\n",
      " 1   datatype    154 non-null    category      \n",
      " 2   station     154 non-null    category      \n",
      " 3   attributes  154 non-null    object        \n",
      " 4   value       154 non-null    float64       \n",
      "dtypes: category(2), datetime64[ns](1), float64(1), object(1)\n",
      "memory usage: 4.3+ KB\n"
     ]
    }
   ],
   "source": [
    "df.date = pd.to_datetime(df.date)\n",
    "\n",
    "df.datatype = df.datatype.astype('category')\n",
    "\n",
    "df.station = df.station.astype('category')\n",
    "\n",
    "df.info()"
   ]
  },
  {
   "cell_type": "markdown",
   "metadata": {},
   "source": [
    "**CODE**\n",
    "\n",
    "Use the describe function to summarize data on the CATEGORICAL columns only\n",
    "Get a count for each unique value of datatype"
   ]
  },
  {
   "cell_type": "code",
   "execution_count": 48,
   "metadata": {},
   "outputs": [
    {
     "data": {
      "text/html": [
       "<div>\n",
       "<style scoped>\n",
       "    .dataframe tbody tr th:only-of-type {\n",
       "        vertical-align: middle;\n",
       "    }\n",
       "\n",
       "    .dataframe tbody tr th {\n",
       "        vertical-align: top;\n",
       "    }\n",
       "\n",
       "    .dataframe thead th {\n",
       "        text-align: right;\n",
       "    }\n",
       "</style>\n",
       "<table border=\"1\" class=\"dataframe\">\n",
       "  <thead>\n",
       "    <tr style=\"text-align: right;\">\n",
       "      <th></th>\n",
       "      <th>datatype</th>\n",
       "      <th>station</th>\n",
       "    </tr>\n",
       "  </thead>\n",
       "  <tbody>\n",
       "    <tr>\n",
       "      <th>count</th>\n",
       "      <td>154</td>\n",
       "      <td>154</td>\n",
       "    </tr>\n",
       "    <tr>\n",
       "      <th>unique</th>\n",
       "      <td>3</td>\n",
       "      <td>2</td>\n",
       "    </tr>\n",
       "    <tr>\n",
       "      <th>top</th>\n",
       "      <td>TAVG</td>\n",
       "      <td>GHCND:AE000041196</td>\n",
       "    </tr>\n",
       "    <tr>\n",
       "      <th>freq</th>\n",
       "      <td>62</td>\n",
       "      <td>77</td>\n",
       "    </tr>\n",
       "  </tbody>\n",
       "</table>\n",
       "</div>"
      ],
      "text/plain": [
       "       datatype            station\n",
       "count       154                154\n",
       "unique        3                  2\n",
       "top        TAVG  GHCND:AE000041196\n",
       "freq         62                 77"
      ]
     },
     "execution_count": 48,
     "metadata": {},
     "output_type": "execute_result"
    }
   ],
   "source": [
    "df.describe(include='category')"
   ]
  },
  {
   "cell_type": "code",
   "execution_count": 49,
   "metadata": {},
   "outputs": [
    {
     "data": {
      "text/plain": [
       "station\n",
       "GHCND:AE000041196    77\n",
       "GHCND:AEM00041194    77\n",
       "Name: count, dtype: int64"
      ]
     },
     "execution_count": 49,
     "metadata": {},
     "output_type": "execute_result"
    }
   ],
   "source": [
    "df.station.value_counts()"
   ]
  },
  {
   "cell_type": "code",
   "execution_count": 50,
   "metadata": {},
   "outputs": [
    {
     "data": {
      "text/plain": [
       "datatype\n",
       "TAVG    62\n",
       "TMAX    54\n",
       "TMIN    38\n",
       "Name: count, dtype: int64"
      ]
     },
     "execution_count": 50,
     "metadata": {},
     "output_type": "execute_result"
    }
   ],
   "source": [
    "df.datatype.value_counts()"
   ]
  },
  {
   "cell_type": "markdown",
   "metadata": {},
   "source": [
    "**CODE**\n",
    " \n",
    "Rename the value (temperature) column to temp_C\n",
    "\n",
    "Create a new column called temp_F that calculated Farenheit on the formula (df.temp_C * 9/5) + 32"
   ]
  },
  {
   "cell_type": "code",
   "execution_count": 22,
   "metadata": {},
   "outputs": [],
   "source": [
    "#rename value column to temp_C\n",
    "df.rename(columns={'value': 'temp_C'}, inplace=True)"
   ]
  },
  {
   "cell_type": "code",
   "execution_count": 25,
   "metadata": {},
   "outputs": [],
   "source": [
    "#create a new column called temp_F and convert temp_C to Fahrenheit\n",
    "df['temp_F'] = df.temp_C * 9/5 + 32\n"
   ]
  },
  {
   "cell_type": "code",
   "execution_count": 26,
   "metadata": {},
   "outputs": [
    {
     "data": {
      "text/html": [
       "<div>\n",
       "<style scoped>\n",
       "    .dataframe tbody tr th:only-of-type {\n",
       "        vertical-align: middle;\n",
       "    }\n",
       "\n",
       "    .dataframe tbody tr th {\n",
       "        vertical-align: top;\n",
       "    }\n",
       "\n",
       "    .dataframe thead th {\n",
       "        text-align: right;\n",
       "    }\n",
       "</style>\n",
       "<table border=\"1\" class=\"dataframe\">\n",
       "  <thead>\n",
       "    <tr style=\"text-align: right;\">\n",
       "      <th></th>\n",
       "      <th>date</th>\n",
       "      <th>datatype</th>\n",
       "      <th>station</th>\n",
       "      <th>attributes</th>\n",
       "      <th>temp_C</th>\n",
       "      <th>temp_F</th>\n",
       "    </tr>\n",
       "  </thead>\n",
       "  <tbody>\n",
       "    <tr>\n",
       "      <th>0</th>\n",
       "      <td>2023-01-01</td>\n",
       "      <td>TAVG</td>\n",
       "      <td>GHCND:AE000041196</td>\n",
       "      <td>H,,S,</td>\n",
       "      <td>20.7</td>\n",
       "      <td>69.26</td>\n",
       "    </tr>\n",
       "    <tr>\n",
       "      <th>1</th>\n",
       "      <td>2023-01-01</td>\n",
       "      <td>TMAX</td>\n",
       "      <td>GHCND:AE000041196</td>\n",
       "      <td>,,S,</td>\n",
       "      <td>25.2</td>\n",
       "      <td>77.36</td>\n",
       "    </tr>\n",
       "    <tr>\n",
       "      <th>2</th>\n",
       "      <td>2023-01-01</td>\n",
       "      <td>TMIN</td>\n",
       "      <td>GHCND:AE000041196</td>\n",
       "      <td>,,S,</td>\n",
       "      <td>14.9</td>\n",
       "      <td>58.82</td>\n",
       "    </tr>\n",
       "    <tr>\n",
       "      <th>3</th>\n",
       "      <td>2023-01-01</td>\n",
       "      <td>TAVG</td>\n",
       "      <td>GHCND:AEM00041194</td>\n",
       "      <td>H,,S,</td>\n",
       "      <td>22.3</td>\n",
       "      <td>72.14</td>\n",
       "    </tr>\n",
       "    <tr>\n",
       "      <th>4</th>\n",
       "      <td>2023-01-01</td>\n",
       "      <td>TMAX</td>\n",
       "      <td>GHCND:AEM00041194</td>\n",
       "      <td>,,S,</td>\n",
       "      <td>25.5</td>\n",
       "      <td>77.90</td>\n",
       "    </tr>\n",
       "  </tbody>\n",
       "</table>\n",
       "</div>"
      ],
      "text/plain": [
       "        date datatype            station attributes  temp_C  temp_F\n",
       "0 2023-01-01     TAVG  GHCND:AE000041196      H,,S,    20.7   69.26\n",
       "1 2023-01-01     TMAX  GHCND:AE000041196       ,,S,    25.2   77.36\n",
       "2 2023-01-01     TMIN  GHCND:AE000041196       ,,S,    14.9   58.82\n",
       "3 2023-01-01     TAVG  GHCND:AEM00041194      H,,S,    22.3   72.14\n",
       "4 2023-01-01     TMAX  GHCND:AEM00041194       ,,S,    25.5   77.90"
      ]
     },
     "execution_count": 26,
     "metadata": {},
     "output_type": "execute_result"
    }
   ],
   "source": [
    "df.head()"
   ]
  },
  {
   "cell_type": "markdown",
   "metadata": {},
   "source": [
    "**CODE**\n",
    "\n",
    "Let's analyze the data some.\n",
    "\n",
    "Get the 10 hottest (TMAX) days, ordered by TMAX desc and Date asc"
   ]
  },
  {
   "cell_type": "code",
   "execution_count": 38,
   "metadata": {},
   "outputs": [
    {
     "data": {
      "text/html": [
       "<div>\n",
       "<style scoped>\n",
       "    .dataframe tbody tr th:only-of-type {\n",
       "        vertical-align: middle;\n",
       "    }\n",
       "\n",
       "    .dataframe tbody tr th {\n",
       "        vertical-align: top;\n",
       "    }\n",
       "\n",
       "    .dataframe thead th {\n",
       "        text-align: right;\n",
       "    }\n",
       "</style>\n",
       "<table border=\"1\" class=\"dataframe\">\n",
       "  <thead>\n",
       "    <tr style=\"text-align: right;\">\n",
       "      <th></th>\n",
       "      <th>date</th>\n",
       "      <th>datatype</th>\n",
       "      <th>station</th>\n",
       "      <th>attributes</th>\n",
       "      <th>temp_C</th>\n",
       "      <th>temp_F</th>\n",
       "    </tr>\n",
       "  </thead>\n",
       "  <tbody>\n",
       "    <tr>\n",
       "      <th>0</th>\n",
       "      <td>2023-01-17</td>\n",
       "      <td>TMAX</td>\n",
       "      <td>GHCND:AEM00041194</td>\n",
       "      <td>,,S,</td>\n",
       "      <td>29.4</td>\n",
       "      <td>84.92</td>\n",
       "    </tr>\n",
       "    <tr>\n",
       "      <th>1</th>\n",
       "      <td>2023-01-10</td>\n",
       "      <td>TMAX</td>\n",
       "      <td>GHCND:AEM00041194</td>\n",
       "      <td>,,S,</td>\n",
       "      <td>29.3</td>\n",
       "      <td>84.74</td>\n",
       "    </tr>\n",
       "    <tr>\n",
       "      <th>2</th>\n",
       "      <td>2023-01-10</td>\n",
       "      <td>TMAX</td>\n",
       "      <td>GHCND:AE000041196</td>\n",
       "      <td>,,S,</td>\n",
       "      <td>29.0</td>\n",
       "      <td>84.20</td>\n",
       "    </tr>\n",
       "    <tr>\n",
       "      <th>3</th>\n",
       "      <td>2023-01-31</td>\n",
       "      <td>TMAX</td>\n",
       "      <td>GHCND:AEM00041194</td>\n",
       "      <td>,,S,</td>\n",
       "      <td>28.7</td>\n",
       "      <td>83.66</td>\n",
       "    </tr>\n",
       "    <tr>\n",
       "      <th>4</th>\n",
       "      <td>2023-01-05</td>\n",
       "      <td>TMAX</td>\n",
       "      <td>GHCND:AEM00041194</td>\n",
       "      <td>,,S,</td>\n",
       "      <td>28.6</td>\n",
       "      <td>83.48</td>\n",
       "    </tr>\n",
       "    <tr>\n",
       "      <th>5</th>\n",
       "      <td>2023-01-05</td>\n",
       "      <td>TMAX</td>\n",
       "      <td>GHCND:AE000041196</td>\n",
       "      <td>,,S,</td>\n",
       "      <td>28.1</td>\n",
       "      <td>82.58</td>\n",
       "    </tr>\n",
       "    <tr>\n",
       "      <th>6</th>\n",
       "      <td>2023-01-04</td>\n",
       "      <td>TMAX</td>\n",
       "      <td>GHCND:AEM00041194</td>\n",
       "      <td>,,S,</td>\n",
       "      <td>27.7</td>\n",
       "      <td>81.86</td>\n",
       "    </tr>\n",
       "    <tr>\n",
       "      <th>7</th>\n",
       "      <td>2023-01-02</td>\n",
       "      <td>TMAX</td>\n",
       "      <td>GHCND:AEM00041194</td>\n",
       "      <td>,,S,</td>\n",
       "      <td>26.9</td>\n",
       "      <td>80.42</td>\n",
       "    </tr>\n",
       "    <tr>\n",
       "      <th>8</th>\n",
       "      <td>2023-01-03</td>\n",
       "      <td>TMAX</td>\n",
       "      <td>GHCND:AE000041196</td>\n",
       "      <td>,,S,</td>\n",
       "      <td>26.4</td>\n",
       "      <td>79.52</td>\n",
       "    </tr>\n",
       "    <tr>\n",
       "      <th>9</th>\n",
       "      <td>2023-01-03</td>\n",
       "      <td>TMAX</td>\n",
       "      <td>GHCND:AEM00041194</td>\n",
       "      <td>,,S,</td>\n",
       "      <td>26.4</td>\n",
       "      <td>79.52</td>\n",
       "    </tr>\n",
       "  </tbody>\n",
       "</table>\n",
       "</div>"
      ],
      "text/plain": [
       "        date datatype            station attributes  temp_C  temp_F\n",
       "0 2023-01-17     TMAX  GHCND:AEM00041194       ,,S,    29.4   84.92\n",
       "1 2023-01-10     TMAX  GHCND:AEM00041194       ,,S,    29.3   84.74\n",
       "2 2023-01-10     TMAX  GHCND:AE000041196       ,,S,    29.0   84.20\n",
       "3 2023-01-31     TMAX  GHCND:AEM00041194       ,,S,    28.7   83.66\n",
       "4 2023-01-05     TMAX  GHCND:AEM00041194       ,,S,    28.6   83.48\n",
       "5 2023-01-05     TMAX  GHCND:AE000041196       ,,S,    28.1   82.58\n",
       "6 2023-01-04     TMAX  GHCND:AEM00041194       ,,S,    27.7   81.86\n",
       "7 2023-01-02     TMAX  GHCND:AEM00041194       ,,S,    26.9   80.42\n",
       "8 2023-01-03     TMAX  GHCND:AE000041196       ,,S,    26.4   79.52\n",
       "9 2023-01-03     TMAX  GHCND:AEM00041194       ,,S,    26.4   79.52"
      ]
     },
     "execution_count": 38,
     "metadata": {},
     "output_type": "execute_result"
    }
   ],
   "source": [
    "# get a dataframe from df where datatype = TMAX and station = GHCND:AEM00041194\n",
    "df[df.datatype == 'TMAX'].sort_values(by=['temp_C', 'date'], ascending=[False, True], ignore_index=True).head(10)"
   ]
  },
  {
   "cell_type": "markdown",
   "metadata": {},
   "source": [
    "**CODE**\n",
    "\n",
    "Get the 10 coldest (TMIN) days, ordered by TMIN asc and Date asc"
   ]
  },
  {
   "cell_type": "code",
   "execution_count": 51,
   "metadata": {},
   "outputs": [
    {
     "data": {
      "text/html": [
       "<div>\n",
       "<style scoped>\n",
       "    .dataframe tbody tr th:only-of-type {\n",
       "        vertical-align: middle;\n",
       "    }\n",
       "\n",
       "    .dataframe tbody tr th {\n",
       "        vertical-align: top;\n",
       "    }\n",
       "\n",
       "    .dataframe thead th {\n",
       "        text-align: right;\n",
       "    }\n",
       "</style>\n",
       "<table border=\"1\" class=\"dataframe\">\n",
       "  <thead>\n",
       "    <tr style=\"text-align: right;\">\n",
       "      <th></th>\n",
       "      <th>date</th>\n",
       "      <th>datatype</th>\n",
       "      <th>station</th>\n",
       "      <th>attributes</th>\n",
       "      <th>temp_C</th>\n",
       "      <th>temp_F</th>\n",
       "    </tr>\n",
       "  </thead>\n",
       "  <tbody>\n",
       "    <tr>\n",
       "      <th>0</th>\n",
       "      <td>2023-01-29</td>\n",
       "      <td>TMIN</td>\n",
       "      <td>GHCND:AE000041196</td>\n",
       "      <td>,,S,</td>\n",
       "      <td>11.5</td>\n",
       "      <td>52.70</td>\n",
       "    </tr>\n",
       "    <tr>\n",
       "      <th>1</th>\n",
       "      <td>2023-01-31</td>\n",
       "      <td>TMIN</td>\n",
       "      <td>GHCND:AE000041196</td>\n",
       "      <td>,,S,</td>\n",
       "      <td>12.0</td>\n",
       "      <td>53.60</td>\n",
       "    </tr>\n",
       "    <tr>\n",
       "      <th>2</th>\n",
       "      <td>2023-01-22</td>\n",
       "      <td>TMIN</td>\n",
       "      <td>GHCND:AE000041196</td>\n",
       "      <td>,,S,</td>\n",
       "      <td>12.2</td>\n",
       "      <td>53.96</td>\n",
       "    </tr>\n",
       "    <tr>\n",
       "      <th>3</th>\n",
       "      <td>2023-01-30</td>\n",
       "      <td>TMIN</td>\n",
       "      <td>GHCND:AE000041196</td>\n",
       "      <td>,,S,</td>\n",
       "      <td>12.5</td>\n",
       "      <td>54.50</td>\n",
       "    </tr>\n",
       "    <tr>\n",
       "      <th>4</th>\n",
       "      <td>2023-01-21</td>\n",
       "      <td>TMIN</td>\n",
       "      <td>GHCND:AE000041196</td>\n",
       "      <td>,,S,</td>\n",
       "      <td>12.8</td>\n",
       "      <td>55.04</td>\n",
       "    </tr>\n",
       "    <tr>\n",
       "      <th>5</th>\n",
       "      <td>2023-01-24</td>\n",
       "      <td>TMIN</td>\n",
       "      <td>GHCND:AE000041196</td>\n",
       "      <td>,,S,</td>\n",
       "      <td>12.8</td>\n",
       "      <td>55.04</td>\n",
       "    </tr>\n",
       "    <tr>\n",
       "      <th>6</th>\n",
       "      <td>2023-01-20</td>\n",
       "      <td>TMIN</td>\n",
       "      <td>GHCND:AE000041196</td>\n",
       "      <td>,,S,</td>\n",
       "      <td>12.9</td>\n",
       "      <td>55.22</td>\n",
       "    </tr>\n",
       "    <tr>\n",
       "      <th>7</th>\n",
       "      <td>2023-01-13</td>\n",
       "      <td>TMIN</td>\n",
       "      <td>GHCND:AE000041196</td>\n",
       "      <td>,,S,</td>\n",
       "      <td>13.3</td>\n",
       "      <td>55.94</td>\n",
       "    </tr>\n",
       "    <tr>\n",
       "      <th>8</th>\n",
       "      <td>2023-01-12</td>\n",
       "      <td>TMIN</td>\n",
       "      <td>GHCND:AE000041196</td>\n",
       "      <td>,,S,</td>\n",
       "      <td>13.5</td>\n",
       "      <td>56.30</td>\n",
       "    </tr>\n",
       "    <tr>\n",
       "      <th>9</th>\n",
       "      <td>2023-01-29</td>\n",
       "      <td>TMIN</td>\n",
       "      <td>GHCND:AEM00041194</td>\n",
       "      <td>,,S,</td>\n",
       "      <td>13.7</td>\n",
       "      <td>56.66</td>\n",
       "    </tr>\n",
       "  </tbody>\n",
       "</table>\n",
       "</div>"
      ],
      "text/plain": [
       "        date datatype            station attributes  temp_C  temp_F\n",
       "0 2023-01-29     TMIN  GHCND:AE000041196       ,,S,    11.5   52.70\n",
       "1 2023-01-31     TMIN  GHCND:AE000041196       ,,S,    12.0   53.60\n",
       "2 2023-01-22     TMIN  GHCND:AE000041196       ,,S,    12.2   53.96\n",
       "3 2023-01-30     TMIN  GHCND:AE000041196       ,,S,    12.5   54.50\n",
       "4 2023-01-21     TMIN  GHCND:AE000041196       ,,S,    12.8   55.04\n",
       "5 2023-01-24     TMIN  GHCND:AE000041196       ,,S,    12.8   55.04\n",
       "6 2023-01-20     TMIN  GHCND:AE000041196       ,,S,    12.9   55.22\n",
       "7 2023-01-13     TMIN  GHCND:AE000041196       ,,S,    13.3   55.94\n",
       "8 2023-01-12     TMIN  GHCND:AE000041196       ,,S,    13.5   56.30\n",
       "9 2023-01-29     TMIN  GHCND:AEM00041194       ,,S,    13.7   56.66"
      ]
     },
     "execution_count": 51,
     "metadata": {},
     "output_type": "execute_result"
    }
   ],
   "source": [
    "df[df.datatype == 'TMIN'].sort_values(by=['temp_C', 'date'], ascending=[True, True], ignore_index=True).head(10)"
   ]
  },
  {
   "cell_type": "markdown",
   "metadata": {},
   "source": [
    "**CODE**\n",
    "\n",
    "* Create a new dataframe, indexed_df, that includes ONLY the TMAX data for station GHCND:AEM00041194\n",
    "\n",
    "* Make the date column the index for this new dataframe"
   ]
  },
  {
   "cell_type": "code",
   "execution_count": 54,
   "metadata": {},
   "outputs": [
    {
     "name": "stderr",
     "output_type": "stream",
     "text": [
      "/var/folders/s4/35mz08191h37fr7zq4g0m_d40000gn/T/ipykernel_3844/365188312.py:1: UserWarning: Boolean Series key will be reindexed to match DataFrame index.\n",
      "  indexed_df_max = df[df.datatype == 'TMAX'][df.station == 'GHCND:AEM00041194'].set_index('date')\n"
     ]
    },
    {
     "data": {
      "text/html": [
       "<div>\n",
       "<style scoped>\n",
       "    .dataframe tbody tr th:only-of-type {\n",
       "        vertical-align: middle;\n",
       "    }\n",
       "\n",
       "    .dataframe tbody tr th {\n",
       "        vertical-align: top;\n",
       "    }\n",
       "\n",
       "    .dataframe thead th {\n",
       "        text-align: right;\n",
       "    }\n",
       "</style>\n",
       "<table border=\"1\" class=\"dataframe\">\n",
       "  <thead>\n",
       "    <tr style=\"text-align: right;\">\n",
       "      <th></th>\n",
       "      <th>datatype</th>\n",
       "      <th>station</th>\n",
       "      <th>attributes</th>\n",
       "      <th>temp_C</th>\n",
       "      <th>temp_F</th>\n",
       "    </tr>\n",
       "    <tr>\n",
       "      <th>date</th>\n",
       "      <th></th>\n",
       "      <th></th>\n",
       "      <th></th>\n",
       "      <th></th>\n",
       "      <th></th>\n",
       "    </tr>\n",
       "  </thead>\n",
       "  <tbody>\n",
       "    <tr>\n",
       "      <th>2023-01-01</th>\n",
       "      <td>TMAX</td>\n",
       "      <td>GHCND:AEM00041194</td>\n",
       "      <td>,,S,</td>\n",
       "      <td>25.5</td>\n",
       "      <td>77.90</td>\n",
       "    </tr>\n",
       "    <tr>\n",
       "      <th>2023-01-02</th>\n",
       "      <td>TMAX</td>\n",
       "      <td>GHCND:AEM00041194</td>\n",
       "      <td>,,S,</td>\n",
       "      <td>26.9</td>\n",
       "      <td>80.42</td>\n",
       "    </tr>\n",
       "    <tr>\n",
       "      <th>2023-01-03</th>\n",
       "      <td>TMAX</td>\n",
       "      <td>GHCND:AEM00041194</td>\n",
       "      <td>,,S,</td>\n",
       "      <td>26.4</td>\n",
       "      <td>79.52</td>\n",
       "    </tr>\n",
       "    <tr>\n",
       "      <th>2023-01-04</th>\n",
       "      <td>TMAX</td>\n",
       "      <td>GHCND:AEM00041194</td>\n",
       "      <td>,,S,</td>\n",
       "      <td>27.7</td>\n",
       "      <td>81.86</td>\n",
       "    </tr>\n",
       "    <tr>\n",
       "      <th>2023-01-05</th>\n",
       "      <td>TMAX</td>\n",
       "      <td>GHCND:AEM00041194</td>\n",
       "      <td>,,S,</td>\n",
       "      <td>28.6</td>\n",
       "      <td>83.48</td>\n",
       "    </tr>\n",
       "  </tbody>\n",
       "</table>\n",
       "</div>"
      ],
      "text/plain": [
       "           datatype            station attributes  temp_C  temp_F\n",
       "date                                                             \n",
       "2023-01-01     TMAX  GHCND:AEM00041194       ,,S,    25.5   77.90\n",
       "2023-01-02     TMAX  GHCND:AEM00041194       ,,S,    26.9   80.42\n",
       "2023-01-03     TMAX  GHCND:AEM00041194       ,,S,    26.4   79.52\n",
       "2023-01-04     TMAX  GHCND:AEM00041194       ,,S,    27.7   81.86\n",
       "2023-01-05     TMAX  GHCND:AEM00041194       ,,S,    28.6   83.48"
      ]
     },
     "execution_count": 54,
     "metadata": {},
     "output_type": "execute_result"
    }
   ],
   "source": [
    "indexed_df_max = df[df.datatype == 'TMAX'][df.station == 'GHCND:AEM00041194'].set_index('date')\n",
    "indexed_df_max.head()"
   ]
  },
  {
   "cell_type": "markdown",
   "metadata": {},
   "source": [
    "**CODE**\n",
    "\n",
    "We haven't done much graphing yets but use the Padas Dataframe built in function \"plot\" to plot the temp_C over time. Might not work if you dont have the date column as the index.\n",
    "\n",
    "This is/can be as simple as a single line of code, dont go crazy"
   ]
  },
  {
   "cell_type": "code",
   "execution_count": 55,
   "metadata": {},
   "outputs": [
    {
     "data": {
      "text/plain": [
       "<Axes: xlabel='date'>"
      ]
     },
     "execution_count": 55,
     "metadata": {},
     "output_type": "execute_result"
    },
    {
     "data": {
      "image/png": "[encoded data removed]",
      "text/plain": [
       "<Figure size 640x480 with 1 Axes>"
      ]
     },
     "metadata": {},
     "output_type": "display_data"
    }
   ],
   "source": [
    "# graph temp_C for the datatype TMAX\n",
    "indexed_df_max.temp_C.plot(legend=True)"
   ]
  },
  {
   "cell_type": "markdown",
   "metadata": {},
   "source": [
    "**CODE**\n",
    "\n",
    "Create another dataframe from the original DF that contains only TMIN for the station GHCND:AEM00041194\n",
    "\n",
    "Set the date column to be the index"
   ]
  },
  {
   "cell_type": "code",
   "execution_count": 59,
   "metadata": {},
   "outputs": [
    {
     "name": "stderr",
     "output_type": "stream",
     "text": [
      "/var/folders/s4/35mz08191h37fr7zq4g0m_d40000gn/T/ipykernel_3844/2482496974.py:1: UserWarning: Boolean Series key will be reindexed to match DataFrame index.\n",
      "  indexed_df_min = df[df.datatype == 'TMIN'][df.station == 'GHCND:AEM00041194'].set_index('date')\n"
     ]
    },
    {
     "data": {
      "text/html": [
       "<div>\n",
       "<style scoped>\n",
       "    .dataframe tbody tr th:only-of-type {\n",
       "        vertical-align: middle;\n",
       "    }\n",
       "\n",
       "    .dataframe tbody tr th {\n",
       "        vertical-align: top;\n",
       "    }\n",
       "\n",
       "    .dataframe thead th {\n",
       "        text-align: right;\n",
       "    }\n",
       "</style>\n",
       "<table border=\"1\" class=\"dataframe\">\n",
       "  <thead>\n",
       "    <tr style=\"text-align: right;\">\n",
       "      <th></th>\n",
       "      <th>datatype</th>\n",
       "      <th>station</th>\n",
       "      <th>attributes</th>\n",
       "      <th>temp_C</th>\n",
       "      <th>temp_F</th>\n",
       "    </tr>\n",
       "    <tr>\n",
       "      <th>date</th>\n",
       "      <th></th>\n",
       "      <th></th>\n",
       "      <th></th>\n",
       "      <th></th>\n",
       "      <th></th>\n",
       "    </tr>\n",
       "  </thead>\n",
       "  <tbody>\n",
       "    <tr>\n",
       "      <th>2023-01-01</th>\n",
       "      <td>TMIN</td>\n",
       "      <td>GHCND:AEM00041194</td>\n",
       "      <td>,,S,</td>\n",
       "      <td>18.6</td>\n",
       "      <td>65.48</td>\n",
       "    </tr>\n",
       "    <tr>\n",
       "      <th>2023-01-04</th>\n",
       "      <td>TMIN</td>\n",
       "      <td>GHCND:AEM00041194</td>\n",
       "      <td>,,S,</td>\n",
       "      <td>19.9</td>\n",
       "      <td>67.82</td>\n",
       "    </tr>\n",
       "    <tr>\n",
       "      <th>2023-01-05</th>\n",
       "      <td>TMIN</td>\n",
       "      <td>GHCND:AEM00041194</td>\n",
       "      <td>,,S,</td>\n",
       "      <td>20.6</td>\n",
       "      <td>69.08</td>\n",
       "    </tr>\n",
       "    <tr>\n",
       "      <th>2023-01-08</th>\n",
       "      <td>TMIN</td>\n",
       "      <td>GHCND:AEM00041194</td>\n",
       "      <td>,,S,</td>\n",
       "      <td>17.9</td>\n",
       "      <td>64.22</td>\n",
       "    </tr>\n",
       "    <tr>\n",
       "      <th>2023-01-09</th>\n",
       "      <td>TMIN</td>\n",
       "      <td>GHCND:AEM00041194</td>\n",
       "      <td>,,S,</td>\n",
       "      <td>18.5</td>\n",
       "      <td>65.30</td>\n",
       "    </tr>\n",
       "  </tbody>\n",
       "</table>\n",
       "</div>"
      ],
      "text/plain": [
       "           datatype            station attributes  temp_C  temp_F\n",
       "date                                                             \n",
       "2023-01-01     TMIN  GHCND:AEM00041194       ,,S,    18.6   65.48\n",
       "2023-01-04     TMIN  GHCND:AEM00041194       ,,S,    19.9   67.82\n",
       "2023-01-05     TMIN  GHCND:AEM00041194       ,,S,    20.6   69.08\n",
       "2023-01-08     TMIN  GHCND:AEM00041194       ,,S,    17.9   64.22\n",
       "2023-01-09     TMIN  GHCND:AEM00041194       ,,S,    18.5   65.30"
      ]
     },
     "execution_count": 59,
     "metadata": {},
     "output_type": "execute_result"
    }
   ],
   "source": [
    "indexed_df_min = df[df.datatype == 'TMIN'][df.station == 'GHCND:AEM00041194'].set_index('date')\n",
    "indexed_df_min.head()\n",
    "\n"
   ]
  },
  {
   "cell_type": "markdown",
   "metadata": {},
   "source": [
    "**CODE**\n",
    "\n",
    "Plot the TMIN and TMAX dataframes together. This is as simple as calling the plot function on each dataframe and it should appear on the same graph"
   ]
  },
  {
   "cell_type": "code",
   "execution_count": 60,
   "metadata": {},
   "outputs": [
    {
     "data": {
      "text/plain": [
       "<Axes: xlabel='date'>"
      ]
     },
     "execution_count": 60,
     "metadata": {},
     "output_type": "execute_result"
    },
    {
     "data": {
      "image/png": "[encoded data removed]",
      "text/plain": [
       "<Figure size 640x480 with 1 Axes>"
      ]
     },
     "metadata": {},
     "output_type": "display_data"
    }
   ],
   "source": [
    "# plot indexed_df_2 temp_C and indexed_df temp_C on the same graph\n",
    "indexed_df_max.temp_C.plot(legend=True)\n",
    "indexed_df_min.temp_C.plot(legend=True)\n"
   ]
  }
 ],
 "metadata": {
  "kernelspec": {
   "display_name": "dsa250",
   "language": "python",
   "name": "python3"
  },
  "language_info": {
   "codemirror_mode": {
    "name": "ipython",
    "version": 3
   },
   "file_extension": ".py",
   "mimetype": "text/x-python",
   "name": "python",
   "nbconvert_exporter": "python",
   "pygments_lexer": "ipython3",
   "version": "3.12.0"
  }
 },
 "nbformat": 4,
 "nbformat_minor": 2
}
