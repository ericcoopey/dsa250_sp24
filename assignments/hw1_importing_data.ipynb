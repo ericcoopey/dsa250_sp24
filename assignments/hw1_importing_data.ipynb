{
 "cells": [
  {
   "cell_type": "markdown",
   "metadata": {},
   "source": [
    "***Homework 1***\n",
    "\n",
    "**Due Wedneday Jan 31st**\n",
    "\n",
    "In this assignment you will import several datasets into a dataframe and perform some basic analysis\n",
    "\n",
    "YOU CAN ADD CODE BLOCKS. If a question has several parts you should add code blocks"
   ]
  },
  {
   "cell_type": "code",
   "execution_count": null,
   "metadata": {},
   "outputs": [],
   "source": [
    "import pandas as pd\n",
    "import numpy as np"
   ]
  },
  {
   "cell_type": "markdown",
   "metadata": {},
   "source": [
    "**CODE**\n",
    "\n",
    "We will import a dataset that purports (I have no idea how accurrate it is) to be a list of all of the Titanic passengers.\n",
    "\n",
    "Import the following CSV into a Pandas dataframe. You can either download the file and import it locally, or use the URL method to pull directly from  Github (may need to add the ?raw=True)\n",
    "\n",
    "https://github.com/MainakRepositor/Datasets/blob/master/Titanic.csv"
   ]
  },
  {
   "cell_type": "code",
   "execution_count": null,
   "metadata": {},
   "outputs": [],
   "source": [
    "# Code goes here\n"
   ]
  },
  {
   "cell_type": "markdown",
   "metadata": {},
   "source": [
    "**CODE**\n",
    "\n",
    "Do some high level analysis on the dataset, including:\n",
    "\n",
    "* List the first 5 rows\n",
    "* What are the dimensions of the dataframe (rows/columns)?\n",
    "* What are the column names?\n",
    "* What are the column types?\n"
   ]
  },
  {
   "cell_type": "code",
   "execution_count": null,
   "metadata": {},
   "outputs": [],
   "source": []
  },
  {
   "cell_type": "code",
   "execution_count": null,
   "metadata": {},
   "outputs": [],
   "source": []
  },
  {
   "cell_type": "code",
   "execution_count": null,
   "metadata": {},
   "outputs": [],
   "source": []
  },
  {
   "cell_type": "code",
   "execution_count": null,
   "metadata": {},
   "outputs": [],
   "source": []
  },
  {
   "cell_type": "markdown",
   "metadata": {},
   "source": [
    "**CODE**\n",
    "\n",
    "Dig a little deeper into the data, looking at:\n",
    "\n",
    "* Are there any missing values?\n",
    "* Get the number of unique values for ONE column that appears to be categorical (integers can be a category)\n",
    "* Get the value counts (number of each unique value) for that same ONE column"
   ]
  },
  {
   "cell_type": "code",
   "execution_count": null,
   "metadata": {},
   "outputs": [],
   "source": []
  },
  {
   "cell_type": "code",
   "execution_count": null,
   "metadata": {},
   "outputs": [],
   "source": []
  },
  {
   "cell_type": "code",
   "execution_count": null,
   "metadata": {},
   "outputs": [],
   "source": []
  },
  {
   "cell_type": "markdown",
   "metadata": {},
   "source": [
    "**CODE**\n",
    "\n",
    "Gather some info on the TWO FLOAT (numeric) data columns including:\n",
    "\n",
    "* What are the count/mean/std/min/max"
   ]
  },
  {
   "cell_type": "code",
   "execution_count": null,
   "metadata": {},
   "outputs": [],
   "source": []
  },
  {
   "cell_type": "markdown",
   "metadata": {},
   "source": [
    "**CODE**\n",
    "\n",
    "Return all data (columns) for passengers older than 70 years"
   ]
  },
  {
   "cell_type": "code",
   "execution_count": null,
   "metadata": {},
   "outputs": [],
   "source": []
  },
  {
   "cell_type": "markdown",
   "metadata": {},
   "source": [
    "**CODE**\n",
    "\n",
    "Return all passengers in the top 10% of Fare paid, order by fare decreasing\n",
    "\n",
    "Remember to LOOK at the data returned and ask yourself if it makes sense"
   ]
  },
  {
   "cell_type": "code",
   "execution_count": null,
   "metadata": {},
   "outputs": [],
   "source": []
  },
  {
   "cell_type": "markdown",
   "metadata": {},
   "source": [
    "**CODE**\n",
    "\n",
    "Return all data on passengers with \"Henry\" in their name"
   ]
  },
  {
   "cell_type": "code",
   "execution_count": null,
   "metadata": {},
   "outputs": [],
   "source": []
  }
 ],
 "metadata": {
  "kernelspec": {
   "display_name": "dsa250",
   "language": "python",
   "name": "python3"
  },
  "language_info": {
   "codemirror_mode": {
    "name": "ipython",
    "version": 3
   },
   "file_extension": ".py",
   "mimetype": "text/x-python",
   "name": "python",
   "nbconvert_exporter": "python",
   "pygments_lexer": "ipython3",
   "version": "3.12.0"
  }
 },
 "nbformat": 4,
 "nbformat_minor": 2
}
